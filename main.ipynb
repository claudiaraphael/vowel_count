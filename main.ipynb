{
 "cells": [
  {
   "attachments": {},
   "cell_type": "markdown",
   "metadata": {},
   "source": [
    "Você deve criar uma função chamada countVowels que recebe uma string como argumento e retorna o número de vogais presentes nessa string."
   ]
  },
  {
   "cell_type": "code",
   "execution_count": 8,
   "metadata": {},
   "outputs": [
    {
     "name": "stdout",
     "output_type": "stream",
     "text": [
      "4\n"
     ]
    }
   ],
   "source": [
    "word = input('Digite qualquer palavra')\n",
    "vogais = ['a', 'e', 'i', 'o', 'u']\n",
    "\n",
    "def countVowels(word):\n",
    "    quant_vogais = 0\n",
    "\n",
    "    for i in word:\n",
    "        if i in vogais:\n",
    "            quant_vogais += 1\n",
    "        else:\n",
    "            pass\n",
    "    print(quant_vogais)\n",
    "    \n",
    "countVowels(word)"
   ]
  }
 ],
 "metadata": {
  "kernelspec": {
   "display_name": "base",
   "language": "python",
   "name": "python3"
  },
  "language_info": {
   "codemirror_mode": {
    "name": "ipython",
    "version": 3
   },
   "file_extension": ".py",
   "mimetype": "text/x-python",
   "name": "python",
   "nbconvert_exporter": "python",
   "pygments_lexer": "ipython3",
   "version": "3.9.7"
  },
  "orig_nbformat": 4
 },
 "nbformat": 4,
 "nbformat_minor": 2
}
